{
 "cells": [
  {
   "cell_type": "markdown",
   "metadata": {},
   "source": [
    "1. Formular el problema de cuadrados mínimos para el ajuste solicitado, escribiendo la matriz de diseño, el vector de parámetros, el vector de datos a ajustar, las ecuaciones normales, y las dimensiones\n",
    "de cada uno.\n",
    "2. Hallar la solución al problema resolviendo las ecuaciones normales.\n",
    "3. Calcular el error de aproximación dado por ∥y − X ˆa∥.\n",
    "4. Reportar los valores de los parámetros óptimos hallados redondeando a una cantidad de cifras\n",
    "significativas razonable.\n",
    "\n",
    "Ejercicio 1. Ajuste lineal.\n",
    "a)Hallar la recta que mejor aproxima el conjunto de datos (1) en el sentido de cuadrados mínimos.\n",
    "b)Graficar en una misma figura los datos (xi, yi) junto con la recta ajustada.\n",
    "c)¿Qué valor se obtendría si se usara la recta ajustada para intentar estimar el valor de la función\n",
    "desconocida cuando x = 5?"
   ]
  },
  {
   "cell_type": "code",
   "execution_count": 20,
   "metadata": {},
   "outputs": [],
   "source": [
    "import numpy as np\n",
    "x, y = np.load(\"ejercicio_1.npy\")\n",
    "x = np.array(x)\n",
    "y = np.array(y)\n",
    "\n",
    "matrix_design = column_s\n"
   ]
  }
 ],
 "metadata": {
  "kernelspec": {
   "display_name": "metodos",
   "language": "python",
   "name": "python3"
  },
  "language_info": {
   "codemirror_mode": {
    "name": "ipython",
    "version": 3
   },
   "file_extension": ".py",
   "mimetype": "text/x-python",
   "name": "python",
   "nbconvert_exporter": "python",
   "pygments_lexer": "ipython3",
   "version": "3.10.12"
  },
  "orig_nbformat": 4
 },
 "nbformat": 4,
 "nbformat_minor": 2
}
