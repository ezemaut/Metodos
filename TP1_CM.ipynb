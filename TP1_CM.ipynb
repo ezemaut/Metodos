{
 "cells": [
  {
   "cell_type": "markdown",
   "id": "9a95ecaa-f017-41d5-8dc5-492836efe40f",
   "metadata": {},
   "source": [
    "Ejercicio 1: Ax=b A-> matriz con las coordenadas de los nodos b-> f(x) vector x-> x^n "
   ]
  },
  {
   "cell_type": "markdown",
   "id": "cf8593d0-b3dc-4c3e-87ee-f69ade4681d3",
   "metadata": {},
   "source": [
    "Ejercicio 2. Construir un np.ndarray que contenga 8 nodos equiespaciados entre −1 y 1 y resolver\n",
    "el sistema lineal del ejercicio 1, obteniendo as´ı los coeficientes del polinomio buscado. Implementar una\n",
    "funcion que reciba un par´ametro x de tipo float y devuelva p(x), el valor del polinomio en ese punto.\n"
   ]
  },
  {
   "cell_type": "code",
   "execution_count": null,
   "id": "874eb639-01fb-47e6-b732-3e2a891be395",
   "metadata": {},
   "outputs": [],
   "source": [
    "import numpy as np\n",
    "def f(x:float) -> float:\n",
    "    return 1/(1 + 25*(x**2))\n",
    "\n",
    "def p(x:float) -> float:\n",
    "    return np.dot(np.vander([x],len(x_solucion)), (x_solucion))[0]\n",
    "\n",
    "nodos = np.linspace(-1,1,8)\n",
    "A =  np.vander(nodos)\n",
    "b = np.array([f(x) for x in nodos])\n",
    "x_solucion = np.linalg.solve(A,b)"
   ]
  },
  {
   "cell_type": "markdown",
   "id": "0a0cd130-1954-462c-8fa1-cdd5bde9b01c",
   "metadata": {},
   "source": [
    "Ejercicio 3. En una misma figura, graficar dentro del intervalo I:\n",
    "El grafico de la funci´on f y el gr´afico del polinomio p hallado.\n",
    "Los valores de f en cada uno de los nodos usados para interpolar, visualizados como puntos.\n",
    "¿C´omo es la aproximaci´on de p a f en cada uno de los nodos? ¿Y fuera de los nodos?"
   ]
  },
  {
   "cell_type": "code",
   "execution_count": null,
   "id": "61ab87eb-d4d0-42fd-a2bb-e5f62859fd9c",
   "metadata": {},
   "outputs": [],
   "source": [
    "\n",
    "import matplotlib.pyplot as plt\n",
    "\n",
    "space  = np.linspace(-1,1,100)\n",
    "plt.figure(0)\n",
    "\n",
    "vr = [p(i.item()) for i in space]\n",
    "plt.plot(space,vr)\n",
    "y = 1/(1 + 25*(space**2))\n",
    "plt.plot(space, y)\n",
    "vr = [p(x) for x in nodos]\n",
    "plt.scatter(nodos, vr, c = 'green')\n",
    "plt.xlabel( \"x\")\n",
    "plt.ylabel( \"y\")\n",
    "plt.grid(True)\n",
    "# plt.show()\n"
   ]
  },
  {
   "cell_type": "markdown",
   "id": "48af54dd-39d7-4e46-a80b-999c597a63e2",
   "metadata": {},
   "source": [
    "En los nodos p = f y fuera son acercan pero no son iguales.\n",
    "\n"
   ]
  },
  {
   "cell_type": "markdown",
   "id": "0a6ac008-5157-4107-b7fc-c976af9e219a",
   "metadata": {},
   "source": [
    " Ejercicio 4. Implementar una funci´on para cuantificar la aproximaci´on de p a f a partir de la siguiente\n",
    " formula de distancia o error\n",
    " error(x) = |f (x) − p(x)|\n",
    "Usar esta funci´on para evaluar el error de aproximaci´on de p a f , de la siguiente manera:\n",
    "Construir un nuevo vector con 100 puntos equiespaciados dentro del intervalo I (no confundir ´estos\n",
    "con los nodos en los que interpolamos antes!).\n",
    "Evaluar la funci´on de error en cada uno de los puntos y reportar el promedio y el m´aximo de estos\n",
    "100 errores calculados."
   ]
  },
  {
   "cell_type": "code",
   "execution_count": null,
   "id": "ef26a18b-f2f7-465b-b8e9-76f386d63c07",
   "metadata": {},
   "outputs": [],
   "source": [
    "error_space = np.linspace(-1,1,100)\n",
    "error = [abs(f(x.item())-p(x.item())) for x in error_space]\n",
    "Max_error = np.max(error)\n",
    "Mean_error = np.mean(error)\n",
    "\n",
    "# print(Max_error,Mean_error)"
   ]
  },
  {
   "cell_type": "markdown",
   "id": "8f293b71-0507-48e3-8c3c-ca47f121d290",
   "metadata": {},
   "source": [
    "Ejercicio 5. Recrear la figura del ejercicio 3 pero esta vez graficando tanto a f como a p a lo largo del intervalo [−1,2, 1,2]. ¿C´omo es la aproximaci´on por fuera del intervalo original I?"
   ]
  },
  {
   "cell_type": "code",
   "execution_count": null,
   "id": "6cb66eaf-d9f9-4011-ac09-6cae049ef17b",
   "metadata": {},
   "outputs": [],
   "source": [
    "space  = np.linspace(-1.2,1.2,100)\n",
    "plt.figure(0)\n",
    "\n",
    "vr = [p(i.item()) for i in space]\n",
    "plt.plot(space,vr)\n",
    "y = 1/(1 + 25*(space**2))\n",
    "plt.plot(space, y)\n",
    "vr = [p(x) for x in nodos]\n",
    "plt.scatter(nodos, vr, c = 'green')\n",
    "plt.xlabel( \"x\")\n",
    "plt.ylabel( \"y\")\n",
    "plt.grid(True)\n",
    "# plt.show()\n"
   ]
  },
  {
   "cell_type": "markdown",
   "id": "48e8cf45-c43f-4858-b6a5-b68b7b997afa",
   "metadata": {},
   "source": [
    "Ejercicio 6. Repetir los ejercicios 2, 3 y 4 esta vez tomando 16 nodos. ¿C´omo cambia el comportamiento de p y su aproximaci´on a f ? El error de aproximaci´on medido en el ejercicio 4, ¿mejor´o o empeor´o?\n"
   ]
  },
  {
   "cell_type": "markdown",
   "id": "1040d9e7-8dcb-4106-9f86-bff3e66be02e",
   "metadata": {},
   "source": [
    "6.2) "
   ]
  },
  {
   "cell_type": "code",
   "execution_count": null,
   "id": "6246104e-7ae0-4d1f-89a3-425a50bddaf6",
   "metadata": {},
   "outputs": [],
   "source": [
    "\n",
    "nodos = np.linspace(-1,1,16)\n",
    "A =  np.vander(nodos)\n",
    "b = np.array([f(x) for x in nodos])\n",
    "x_solucion = np.linalg.solve(A,b)\n"
   ]
  },
  {
   "cell_type": "markdown",
   "id": "5b58d4f1-d251-4027-bc09-4c6cee48d42d",
   "metadata": {},
   "source": [
    "6.3)"
   ]
  },
  {
   "cell_type": "code",
   "execution_count": null,
   "id": "bef5615f-d64b-4655-98b3-fb2b9b41e05b",
   "metadata": {},
   "outputs": [],
   "source": [
    "\n",
    "space  = np.linspace(-1,1,100)\n",
    "plt.figure(1)\n",
    "vr = [p(i.item()) for i in space]\n",
    "plt.plot(space,vr)\n",
    "y = 1/(1 + 25*(space**2))\n",
    "plt.plot(space, y)\n",
    "vr = [p(x) for x in nodos]\n",
    "plt.scatter(nodos, vr, c = 'green')\n",
    "plt.xlabel( \"x\")\n",
    "plt.ylabel( \"y\")\n",
    "plt.grid(True)\n",
    "# plt.show()\n"
   ]
  },
  {
   "cell_type": "markdown",
   "id": "2579e41a-81b4-432e-9e61-41bf5ba6cc80",
   "metadata": {},
   "source": [
    "6.4)"
   ]
  },
  {
   "cell_type": "code",
   "execution_count": null,
   "id": "a35e765f-ee54-44df-990b-a985cacd8300",
   "metadata": {},
   "outputs": [],
   "source": [
    "error_space = np.linspace(-1,1,100)\n",
    "error = [abs(f(x.item())-p(x.item())) for x in error_space]\n",
    "Max_error = np.max(error)\n",
    "Mean_error = np.mean(error)\n",
    "\n",
    "# print(Max_error,Mean_error)"
   ]
  },
  {
   "cell_type": "markdown",
   "id": "58bd7bb9-fdf1-44a0-ad71-7aae763a73d1",
   "metadata": {},
   "source": [
    "La aproximacion mejora. El error maximo y promedio aumento."
   ]
  },
  {
   "cell_type": "markdown",
   "id": "8c88a5db-7433-4b17-96e2-66c89e73b4bb",
   "metadata": {},
   "source": [
    "Ejercicio 7. Puede demostrarse que la interpolacion es optima si la distribucion de los nodos en un dado intervalo se corresponde con las raices de una familia de polinomios conocidos como Polinomios de Chebyshev. A continuacion queremos verificar que el error cometido en la interpolaci´on se minimiza utilizando estos nodos. (Opcional) Investigar como se calculan los nodos de Chebyshev e implementar una funci´on en python que reciba como par´ametro de entrada la cantidad de nodos que se quiere generar y devuelva los nodos correspondientes.\n",
    "Repetir el ejercicio 6, utilizando ocho nodos de Chebyshev y comparar los errores obtenidos con el caso de ocho nodos equiespaciados.\n",
    "Nodos de Chebyshev :\n",
    "[0.9807852804032304 , 0.8314696123025452 , 0.5555702330196023 ,\n",
    "0.19509032201612833 , -0.1950903220161282 , -0.555570233019602 ,\n",
    "-0.8314696123025453 , -0.9807852804032304]\n"
   ]
  },
  {
   "cell_type": "markdown",
   "id": "96bb359d-002a-4475-a321-f211ef3ed424",
   "metadata": {},
   "source": [
    "7.2) "
   ]
  },
  {
   "cell_type": "code",
   "execution_count": null,
   "id": "3df5e3fe-6c4f-4767-bc10-706b94e6a031",
   "metadata": {},
   "outputs": [],
   "source": [
    "nodos = [0.9807852804032304 , 0.8314696123025452 , 0.5555702330196023 ,0.19509032201612833 , -0.1950903220161282 , -0.555570233019602 ,-0.8314696123025453 , -0.9807852804032304]\n",
    "A =  np.vander(nodos)\n",
    "b = np.array([f(x) for x in nodos])\n",
    "x_solucion = np.linalg.solve(A,b)\n",
    "\n",
    "#3\n",
    "space  = np.linspace(-1,1,100)\n",
    "plt.figure(2)\n",
    "vr = [p(i.item()) for i in space]\n",
    "plt.plot(space,vr)\n",
    "y = 1/(1 + 25*(space**2))\n",
    "plt.plot(space, y)\n",
    "vr = [p(x) for x in nodos]\n",
    "plt.scatter(nodos, vr, c = 'green')\n",
    "plt.xlabel( \"x\")\n",
    "plt.ylabel( \"y\")\n",
    "plt.grid(True)\n",
    "# plt.show()"
   ]
  },
  {
   "cell_type": "markdown",
   "id": "92030fef-1a68-41ad-a19f-26e4a68aa05f",
   "metadata": {},
   "source": [
    "7.3) "
   ]
  },
  {
   "cell_type": "code",
   "execution_count": null,
   "id": "2fd10993-0a75-4931-9e33-b52a3a6b5286",
   "metadata": {},
   "outputs": [],
   "source": [
    "space  = np.linspace(-1,1,100)\n",
    "plt.figure(2)\n",
    "vr = [p(i.item()) for i in space]\n",
    "plt.plot(space,vr)\n",
    "y = 1/(1 + 25*(space**2))\n",
    "plt.plot(space, y)\n",
    "vr = [p(x) for x in nodos]\n",
    "plt.scatter(nodos, vr, c = 'green')\n",
    "plt.xlabel( \"x\")\n",
    "plt.ylabel( \"y\")\n",
    "plt.grid(True)\n",
    "# plt.show()"
   ]
  },
  {
   "cell_type": "markdown",
   "id": "6f18fa55-0d03-4f01-8843-a40be9bb87e5",
   "metadata": {},
   "source": [
    "7.4)"
   ]
  },
  {
   "cell_type": "code",
   "execution_count": null,
   "id": "0c6651c8-6795-4364-986f-348f3adc1c54",
   "metadata": {},
   "outputs": [],
   "source": [
    "error_space = np.linspace(-1,1,100)\n",
    "error = [abs(f(x.item())-p(x.item())) for x in error_space]\n",
    "Max_error = np.max(error)\n",
    "Mean_error = np.mean(error)\n",
    "# print(Max_error,Mean_error)"
   ]
  },
  {
   "cell_type": "markdown",
   "id": "120bff93-3248-4fe2-8a39-f43c6d0700be",
   "metadata": {},
   "source": [
    "El error maximo es mayor mientras que el promedio es menor."
   ]
  },
  {
   "cell_type": "code",
   "execution_count": null,
   "id": "b5f440ab-20a9-424e-a39b-032f3a422d4a",
   "metadata": {},
   "outputs": [],
   "source": [
    "\n",
    "import math\n",
    "a = 1\n",
    "b = -1\n",
    "def nodos_cheby(n):\n",
    "    return [.5*(a+b)+.5*(b-a)*math.cos((math.pi*(2*k-1))/(2*n)) for k in range(n)]"
   ]
  }
 ],
 "metadata": {
  "kernelspec": {
   "display_name": "Python 3 (ipykernel)",
   "language": "python",
   "name": "python3"
  },
  "language_info": {
   "codemirror_mode": {
    "name": "ipython",
    "version": 3
   },
   "file_extension": ".py",
   "mimetype": "text/x-python",
   "name": "python",
   "nbconvert_exporter": "python",
   "pygments_lexer": "ipython3",
   "version": "3.10.12"
  }
 },
 "nbformat": 4,
 "nbformat_minor": 5
}
